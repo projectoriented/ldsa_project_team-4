{
 "cells": [
  {
   "cell_type": "code",
   "execution_count": 1,
   "metadata": {},
   "outputs": [],
   "source": [
    "import findspark\n",
    "findspark.init()\n",
    "\n",
    "from pyspark import  SparkContext\n",
    "from pyspark.sql import SparkSession\n",
    "\n",
    "spark_session = SparkSession\\\n",
    "    .builder\\\n",
    "    .master(\"spark://192.168.2.243:7077\") \\\n",
    "    .appName(\"test\")\\\n",
    "    .config(\"spark.executor.cores\", 2)\\\n",
    "    .getOrCreate()\n",
    "\n",
    "spark_context = spark_session.sparkContext"
   ]
  },
  {
   "cell_type": "code",
   "execution_count": 2,
   "metadata": {},
   "outputs": [],
   "source": [
    "df1 = spark_session.read\\\n",
    ".option(\"header\",\"true\")\\\n",
    ".option(\"delimiter\", \"\\t\")\\\n",
    ".csv(\"hdfs://team-4-master:9000/1000genomes/All.chrX.LC54_GL.20101123_20110521.snp.low_coverage.genotypes_processed.vcf\")"
   ]
  },
  {
   "cell_type": "code",
   "execution_count": 3,
   "metadata": {},
   "outputs": [],
   "source": [
    "# Filter out others and only keep the SNP alleles data\n",
    "df2 = df1.select(\"REF\",\"ALT\")"
   ]
  },
  {
   "cell_type": "code",
   "execution_count": 4,
   "metadata": {},
   "outputs": [],
   "source": [
    "# Combine the two column so that now we have a column showing the mutation of the SNP\n",
    "# e.g. mutated from a G to an A\n",
    "\n",
    "df2.createOrReplaceTempView(\"df2\")\n",
    "df3 = spark_session.sql(\"SELECT CONCAT(REF, 'to',  ALT) as Mutation FROM df2\")"
   ]
  },
  {
   "cell_type": "code",
   "execution_count": 5,
   "metadata": {},
   "outputs": [
    {
     "name": "stdout",
     "output_type": "stream",
     "text": [
      "+--------+------+\n",
      "|Mutation| count|\n",
      "+--------+------+\n",
      "|    GtoA|282532|\n",
      "|    CtoT|279711|\n",
      "|    TtoC|199767|\n",
      "|    AtoG|197835|\n",
      "|    CtoA| 71314|\n",
      "|    GtoT| 70288|\n",
      "|    CtoG| 57710|\n",
      "|    GtoC| 57569|\n",
      "|    TtoA| 55049|\n",
      "|    AtoT| 54708|\n",
      "|    AtoC| 50670|\n",
      "|    TtoG| 50634|\n",
      "+--------+------+\n",
      "\n"
     ]
    }
   ],
   "source": [
    "# WE now can know which mutation is the most common one in this chromosome.\n",
    "df4 = df3.select(\"Mutation\").groupBy(\"Mutation\").count().sort(\"count\", ascending=False).show()"
   ]
  },
  {
   "cell_type": "code",
   "execution_count": 6,
   "metadata": {},
   "outputs": [],
   "source": [
    "spark_context.stop()"
   ]
  },
  {
   "cell_type": "code",
   "execution_count": null,
   "metadata": {},
   "outputs": [],
   "source": []
  }
 ],
 "metadata": {
  "kernelspec": {
   "display_name": "Python 3",
   "language": "python",
   "name": "python3"
  },
  "language_info": {
   "codemirror_mode": {
    "name": "ipython",
    "version": 3
   },
   "file_extension": ".py",
   "mimetype": "text/x-python",
   "name": "python",
   "nbconvert_exporter": "python",
   "pygments_lexer": "ipython3",
   "version": "3.6.9"
  }
 },
 "nbformat": 4,
 "nbformat_minor": 4
}
