{
 "cells": [
  {
   "cell_type": "code",
   "execution_count": 69,
   "metadata": {},
   "outputs": [],
   "source": [
    "import findspark\n",
    "findspark.init()\n",
    "\n",
    "from pyspark import  SparkContext\n",
    "from pyspark.sql import SparkSession\n",
    "import time\n",
    "import pandas as pd\n",
    "import matplotlib.pyplot as plt\n",
    "\n",
    "\n",
    "def build_session(cores: int):\n",
    "    spark_session = SparkSession\\\n",
    "        .builder\\\n",
    "        .master(\"spark://192.168.2.243:7077\") \\\n",
    "        .appName(\"test\")\\\n",
    "        .config(\"spark.executor.cores\", 1)\\\n",
    "        .config(\"spark.cores.max\", cores)\\\n",
    "        .getOrCreate()\n",
    "    return spark_session\n",
    "\n",
    "spark_context = spark_session.sparkContext"
   ]
  },
  {
   "cell_type": "code",
   "execution_count": 19,
   "metadata": {},
   "outputs": [],
   "source": [
    "df1 = spark_session.read\\\n",
    ".option(\"header\",\"true\")\\\n",
    ".option(\"delimiter\", \"\\t\")\\\n",
    ".csv(\"hdfs://team-4-master:9000/1000genomes/All.chrX.LC54_GL.20101123_20110521.snp.low_coverage.genotypes_processed.vcf\")\n"
   ]
  },
  {
   "cell_type": "code",
   "execution_count": 3,
   "metadata": {},
   "outputs": [],
   "source": [
    "# Filter out others and only keep the SNP alleles data\n",
    "df2 = df1.select(\"REF\",\"ALT\")\n"
   ]
  },
  {
   "cell_type": "code",
   "execution_count": 4,
   "metadata": {},
   "outputs": [],
   "source": [
    "# Combine the two column so that now we have a column showing the mutation of the SNP\n",
    "# e.g. mutated from a G to an A\n",
    "\n",
    "df2.createOrReplaceTempView(\"df2\")\n",
    "df3 = spark_session.sql(\"SELECT CONCAT(REF, 'to',  ALT) as Mutation FROM df2\")\n"
   ]
  },
  {
   "cell_type": "code",
   "execution_count": 5,
   "metadata": {},
   "outputs": [
    {
     "name": "stdout",
     "output_type": "stream",
     "text": [
      "+--------+------+\n",
      "|Mutation| count|\n",
      "+--------+------+\n",
      "|    GtoA|282532|\n",
      "|    CtoT|279711|\n",
      "|    TtoC|199767|\n",
      "|    AtoG|197835|\n",
      "|    CtoA| 71314|\n",
      "|    GtoT| 70288|\n",
      "|    CtoG| 57710|\n",
      "|    GtoC| 57569|\n",
      "|    TtoA| 55049|\n",
      "|    AtoT| 54708|\n",
      "|    AtoC| 50670|\n",
      "|    TtoG| 50634|\n",
      "+--------+------+\n",
      "\n"
     ]
    }
   ],
   "source": [
    "# WE now can know which mutation is the most common one in this chromosome.\n",
    "df4 = df3.select(\"Mutation\").groupBy(\"Mutation\").count().sort(\"count\", ascending=False).show()\n"
   ]
  },
  {
   "cell_type": "code",
   "execution_count": 50,
   "metadata": {},
   "outputs": [],
   "source": [
    "spark_context.stop()"
   ]
  },
  {
   "cell_type": "code",
   "execution_count": 29,
   "metadata": {},
   "outputs": [],
   "source": []
  },
  {
   "cell_type": "code",
   "execution_count": 70,
   "metadata": {},
   "outputs": [
    {
     "name": "stdout",
     "output_type": "stream",
     "text": [
      "+--------+------+\n",
      "|Mutation| count|\n",
      "+--------+------+\n",
      "|    GtoA|282532|\n",
      "|    CtoT|279711|\n",
      "|    TtoC|199767|\n",
      "|    AtoG|197835|\n",
      "|    CtoA| 71314|\n",
      "|    GtoT| 70288|\n",
      "|    CtoG| 57710|\n",
      "|    GtoC| 57569|\n",
      "|    TtoA| 55049|\n",
      "|    AtoT| 54708|\n",
      "|    AtoC| 50670|\n",
      "|    TtoG| 50634|\n",
      "+--------+------+\n",
      "\n",
      "+--------+------+\n",
      "|Mutation| count|\n",
      "+--------+------+\n",
      "|    GtoA|282532|\n",
      "|    CtoT|279711|\n",
      "|    TtoC|199767|\n",
      "|    AtoG|197835|\n",
      "|    CtoA| 71314|\n",
      "|    GtoT| 70288|\n",
      "|    CtoG| 57710|\n",
      "|    GtoC| 57569|\n",
      "|    TtoA| 55049|\n",
      "|    AtoT| 54708|\n",
      "|    AtoC| 50670|\n",
      "|    TtoG| 50634|\n",
      "+--------+------+\n",
      "\n",
      "+--------+------+\n",
      "|Mutation| count|\n",
      "+--------+------+\n",
      "|    GtoA|282532|\n",
      "|    CtoT|279711|\n",
      "|    TtoC|199767|\n",
      "|    AtoG|197835|\n",
      "|    CtoA| 71314|\n",
      "|    GtoT| 70288|\n",
      "|    CtoG| 57710|\n",
      "|    GtoC| 57569|\n",
      "|    TtoA| 55049|\n",
      "|    AtoT| 54708|\n",
      "|    AtoC| 50670|\n",
      "|    TtoG| 50634|\n",
      "+--------+------+\n",
      "\n",
      "+--------+------+\n",
      "|Mutation| count|\n",
      "+--------+------+\n",
      "|    GtoA|282532|\n",
      "|    CtoT|279711|\n",
      "|    TtoC|199767|\n",
      "|    AtoG|197835|\n",
      "|    CtoA| 71314|\n",
      "|    GtoT| 70288|\n",
      "|    CtoG| 57710|\n",
      "|    GtoC| 57569|\n",
      "|    TtoA| 55049|\n",
      "|    AtoT| 54708|\n",
      "|    AtoC| 50670|\n",
      "|    TtoG| 50634|\n",
      "+--------+------+\n",
      "\n"
     ]
    },
    {
     "data": {
      "text/html": [
       "<div>\n",
       "<style scoped>\n",
       "    .dataframe tbody tr th:only-of-type {\n",
       "        vertical-align: middle;\n",
       "    }\n",
       "\n",
       "    .dataframe tbody tr th {\n",
       "        vertical-align: top;\n",
       "    }\n",
       "\n",
       "    .dataframe thead th {\n",
       "        text-align: right;\n",
       "    }\n",
       "</style>\n",
       "<table border=\"1\" class=\"dataframe\">\n",
       "  <thead>\n",
       "    <tr style=\"text-align: right;\">\n",
       "      <th></th>\n",
       "      <th>cores</th>\n",
       "      <th>total time</th>\n",
       "      <th>read time</th>\n",
       "      <th>execution time</th>\n",
       "    </tr>\n",
       "  </thead>\n",
       "  <tbody>\n",
       "    <tr>\n",
       "      <th>0</th>\n",
       "      <td>1</td>\n",
       "      <td>6.248170</td>\n",
       "      <td>26.657454</td>\n",
       "      <td>32.905629</td>\n",
       "    </tr>\n",
       "    <tr>\n",
       "      <th>1</th>\n",
       "      <td>2</td>\n",
       "      <td>6.069549</td>\n",
       "      <td>20.515800</td>\n",
       "      <td>26.585356</td>\n",
       "    </tr>\n",
       "    <tr>\n",
       "      <th>2</th>\n",
       "      <td>3</td>\n",
       "      <td>5.835913</td>\n",
       "      <td>21.300663</td>\n",
       "      <td>27.136582</td>\n",
       "    </tr>\n",
       "    <tr>\n",
       "      <th>3</th>\n",
       "      <td>4</td>\n",
       "      <td>5.920547</td>\n",
       "      <td>21.033583</td>\n",
       "      <td>26.954135</td>\n",
       "    </tr>\n",
       "  </tbody>\n",
       "</table>\n",
       "</div>"
      ],
      "text/plain": [
       "   cores  total time  read time  execution time\n",
       "0      1    6.248170  26.657454       32.905629\n",
       "1      2    6.069549  20.515800       26.585356\n",
       "2      3    5.835913  21.300663       27.136582\n",
       "3      4    5.920547  21.033583       26.954135"
      ]
     },
     "execution_count": 70,
     "metadata": {},
     "output_type": "execute_result"
    }
   ],
   "source": [
    "#Scalability analysis (Strong Scaling)\n",
    "\n",
    "number_of_cores = [1, 2, 3, 4]\n",
    "results_strong = []\n",
    "\n",
    "for cores in number_of_cores:\n",
    "    #Build Session\n",
    "    spark_session = build_session(cores)\n",
    "    spark_context = spark_session.sparkContext\n",
    "    \n",
    "    #Starting timer for reading the files\n",
    "    start_time = time.time()\n",
    "    df1 = spark_session.read\\\n",
    "    .option(\"header\",\"true\")\\\n",
    "    .option(\"delimiter\", \"\\t\")\\\n",
    "    .csv(\"hdfs://team-4-master:9000/1000genomes/All.chrX.LC54_GL.20101123_20110521.snp.low_coverage.genotypes_processed.vcf\")\n",
    "    read_time = time.time() - start_time\n",
    "    \n",
    "    # Starting the timer for executing the analysis\n",
    "    start_time_execution = time.time()\n",
    "    # Filter out others and only keep the SNP alleles data\n",
    "    df2 = df1.select(\"REF\",\"ALT\")\n",
    "    \n",
    "    # Combine the two column so that now we have a column showing the mutation of the SNP e.g. mutated from a G to an A\n",
    "    df2.createOrReplaceTempView(\"df2\")\n",
    "    df3 = spark_session.sql(\"SELECT CONCAT(REF, 'to',  ALT) as Mutation FROM df2\")\n",
    "    \n",
    "    # WE now can know which mutation is the most common one in this chromosome.\n",
    "    df4 = df3.select(\"Mutation\").groupBy(\"Mutation\").count().sort(\"count\", ascending=False).show()\n",
    "    \n",
    "    execution_time = time.time() - start_time_execution\n",
    "    total_time = time.time() - start_time\n",
    "    results_strong.append((cores, read_time, execution_time, total_time))\n",
    "    spark_context.stop()\n",
    "    \n",
    "df_results_strong = pd.DataFrame(data=results_strong, columns=[\"cores\", \"total time\", \"read time\", \"execution time\"])\n",
    "df_results_strong\n"
   ]
  },
  {
   "cell_type": "code",
   "execution_count": 1,
   "metadata": {},
   "outputs": [],
   "source": [
    "#Plot the result for the strong scalability test"
   ]
  },
  {
   "cell_type": "code",
   "execution_count": null,
   "metadata": {},
   "outputs": [],
   "source": []
  }
 ],
 "metadata": {
  "kernelspec": {
   "display_name": "Python 3",
   "language": "python",
   "name": "python3"
  },
  "language_info": {
   "codemirror_mode": {
    "name": "ipython",
    "version": 3
   },
   "file_extension": ".py",
   "mimetype": "text/x-python",
   "name": "python",
   "nbconvert_exporter": "python",
   "pygments_lexer": "ipython3",
   "version": "3.6.9"
  }
 },
 "nbformat": 4,
 "nbformat_minor": 4
}
