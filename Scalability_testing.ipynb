{
 "cells": [
  {
   "cell_type": "code",
   "execution_count": 26,
   "metadata": {},
   "outputs": [],
   "source": [
    "import findspark\n",
    "findspark.init()\n",
    "\n",
    "from pyspark import  SparkContext\n",
    "from pyspark.sql import SparkSession\n",
    "import time\n",
    "import pandas as pd\n",
    "import numpy as np\n",
    "import matplotlib.pyplot as plt\n",
    "\n",
    "\n",
    "def build_session(cores: int):\n",
    "    spark_session = SparkSession\\\n",
    "        .builder\\\n",
    "        .master(\"spark://192.168.2.243:7077\") \\\n",
    "        .appName(\"test\")\\\n",
    "        .config(\"spark.executor.cores\", 2)\\\n",
    "        .config(\"spark.cores.max\", cores)\\\n",
    "        .getOrCreate()\n",
    "    return spark_session"
   ]
  },
  {
   "cell_type": "code",
   "execution_count": 2,
   "metadata": {},
   "outputs": [
    {
     "name": "stdout",
     "output_type": "stream",
     "text": [
      "+--------+------+\n",
      "|Mutation| count|\n",
      "+--------+------+\n",
      "|    GtoA|282532|\n",
      "|    CtoT|279711|\n",
      "|    TtoC|199767|\n",
      "|    AtoG|197835|\n",
      "|    CtoA| 71314|\n",
      "|    GtoT| 70288|\n",
      "|    CtoG| 57710|\n",
      "|    GtoC| 57569|\n",
      "|    TtoA| 55049|\n",
      "|    AtoT| 54708|\n",
      "|    AtoC| 50670|\n",
      "|    TtoG| 50634|\n",
      "+--------+------+\n",
      "\n",
      "+--------+------+\n",
      "|Mutation| count|\n",
      "+--------+------+\n",
      "|    GtoA|282532|\n",
      "|    CtoT|279711|\n",
      "|    TtoC|199767|\n",
      "|    AtoG|197835|\n",
      "|    CtoA| 71314|\n",
      "|    GtoT| 70288|\n",
      "|    CtoG| 57710|\n",
      "|    GtoC| 57569|\n",
      "|    TtoA| 55049|\n",
      "|    AtoT| 54708|\n",
      "|    AtoC| 50670|\n",
      "|    TtoG| 50634|\n",
      "+--------+------+\n",
      "\n"
     ]
    },
    {
     "data": {
      "text/html": [
       "<div>\n",
       "<style scoped>\n",
       "    .dataframe tbody tr th:only-of-type {\n",
       "        vertical-align: middle;\n",
       "    }\n",
       "\n",
       "    .dataframe tbody tr th {\n",
       "        vertical-align: top;\n",
       "    }\n",
       "\n",
       "    .dataframe thead th {\n",
       "        text-align: right;\n",
       "    }\n",
       "</style>\n",
       "<table border=\"1\" class=\"dataframe\">\n",
       "  <thead>\n",
       "    <tr style=\"text-align: right;\">\n",
       "      <th></th>\n",
       "      <th>Cores</th>\n",
       "      <th>Total time</th>\n",
       "      <th>Read time</th>\n",
       "      <th>Execution time</th>\n",
       "    </tr>\n",
       "  </thead>\n",
       "  <tbody>\n",
       "    <tr>\n",
       "      <th>0</th>\n",
       "      <td>2</td>\n",
       "      <td>34.808584</td>\n",
       "      <td>9.828384</td>\n",
       "      <td>24.980190</td>\n",
       "    </tr>\n",
       "    <tr>\n",
       "      <th>1</th>\n",
       "      <td>4</td>\n",
       "      <td>24.931412</td>\n",
       "      <td>6.465570</td>\n",
       "      <td>18.465838</td>\n",
       "    </tr>\n",
       "  </tbody>\n",
       "</table>\n",
       "</div>"
      ],
      "text/plain": [
       "   Cores  Total time  Read time  Execution time\n",
       "0      2   34.808584   9.828384       24.980190\n",
       "1      4   24.931412   6.465570       18.465838"
      ]
     },
     "execution_count": 2,
     "metadata": {},
     "output_type": "execute_result"
    }
   ],
   "source": [
    "#Scalability analysis (Strong Scaling)\n",
    "\n",
    "number_of_cores = [2, 4] #add 4 and 8 cores to this list after configuring the workers\n",
    "results_strong = []\n",
    "\n",
    "for cores in number_of_cores:\n",
    "    #Build Session\n",
    "    spark_session = build_session(cores)\n",
    "    spark_context = spark_session.sparkContext\n",
    "    \n",
    "    #Starting timer for reading the files\n",
    "    start_time = time.time()\n",
    "    df1 = spark_session.read\\\n",
    "    .option(\"header\",\"true\")\\\n",
    "    .option(\"delimiter\", \"\\t\")\\\n",
    "    .csv(\"hdfs://team-4-master:9000/1000genomes/All.chrX.LC54_GL.20101123_20110521.snp.low_coverage.genotypes_processed.vcf\")\n",
    "    read_time = time.time() - start_time\n",
    "    \n",
    "    # Starting the timer for executing the analysis\n",
    "    start_time_execution = time.time()\n",
    "    # Filter out others and only keep the SNP alleles data\n",
    "    df2 = df1.select(\"REF\",\"ALT\")\n",
    "    \n",
    "    # Combine the two column so that now we have a column showing the mutation of the SNP e.g. mutated from a G to an A\n",
    "    df2.createOrReplaceTempView(\"df2\")\n",
    "    df3 = spark_session.sql(\"SELECT CONCAT(REF, 'to',  ALT) as Mutation FROM df2\")\n",
    "    \n",
    "    # WE now can know which mutation is the most common one in this chromosome.\n",
    "    df4 = df3.select(\"Mutation\").groupBy(\"Mutation\").count().sort(\"count\", ascending=False).show()\n",
    "    \n",
    "    execution_time = time.time() - start_time_execution\n",
    "    total_time = time.time() - start_time\n",
    "    results_strong.append((cores, total_time, read_time, execution_time))\n",
    "    spark_context.stop()\n",
    "    \n",
    "df_results_strong = pd.DataFrame(data=results_strong, columns=[\"Cores\", \"Total time\", \"Read time\", \"Execution time\"])\n",
    "df_results_strong"
   ]
  },
  {
   "cell_type": "code",
   "execution_count": 27,
   "metadata": {},
   "outputs": [
    {
     "data": {
      "image/png": "[encoded data removed]",
      "text/plain": [
       "<Figure size 1080x720 with 1 Axes>"
      ]
     },
     "metadata": {
      "needs_background": "light"
     },
     "output_type": "display_data"
    }
   ],
   "source": [
    "#Plot the result for the strong scalability test\n",
    "\n",
    "fig, ax = plt.subplots(figsize=(15, 10))\n",
    "ax = plt.gca()\n",
    "\n",
    "df_results_strong.plot(kind='line',x='Cores',y='Total time', color='red', ax=ax, marker=\"o\")\n",
    "df_results_strong.plot(kind='line',x='Cores',y='Read time', color='blue', ax=ax, marker=\"o\")\n",
    "df_results_strong.plot(kind='line',x='Cores',y='Execution time', color='green', ax=ax, marker=\"o\")\n",
    "\n",
    "plt.xticks(np.arange(2, 9, step=2))\n",
    "plt.title('Strong scalability test')\n",
    "plt.ylabel('Time (s)')\n",
    "plt.xlabel('Number of cores')\n",
    "plt.yticks(fontsize = 16)\n",
    "plt.xticks(fontsize = 16)\n",
    "plt.rc('axes', labelsize=16, titlesize=26, titlepad=20)\n",
    "plt.show()"
   ]
  },
  {
   "cell_type": "code",
   "execution_count": 23,
   "metadata": {},
   "outputs": [],
   "source": [
    "def read_files(spark_session, path):\n",
    "    df1 = spark_session.read\\\n",
    "    .option(\"header\",\"true\")\\\n",
    "    .option(\"delimiter\", \"\\t\")\\\n",
    "    .csv(path)\n",
    "    return df1"
   ]
  },
  {
   "cell_type": "code",
   "execution_count": 24,
   "metadata": {},
   "outputs": [
    {
     "name": "stdout",
     "output_type": "stream",
     "text": [
      "+--------+------+\n",
      "|Mutation| count|\n",
      "+--------+------+\n",
      "|    GtoA|282532|\n",
      "|    CtoT|279711|\n",
      "|    TtoC|199767|\n",
      "|    AtoG|197835|\n",
      "|    CtoA| 71314|\n",
      "|    GtoT| 70288|\n",
      "|    CtoG| 57710|\n",
      "|    GtoC| 57569|\n",
      "|    TtoA| 55049|\n",
      "|    AtoT| 54708|\n",
      "|    AtoC| 50670|\n",
      "|    TtoG| 50634|\n",
      "+--------+------+\n",
      "\n",
      "+--------+------+\n",
      "|Mutation| count|\n",
      "+--------+------+\n",
      "|    GtoA|565064|\n",
      "|    CtoT|559422|\n",
      "|    TtoC|399534|\n",
      "|    AtoG|395670|\n",
      "|    CtoA|142628|\n",
      "|    GtoT|140576|\n",
      "|    CtoG|115420|\n",
      "|    GtoC|115138|\n",
      "|    TtoA|110098|\n",
      "|    AtoT|109416|\n",
      "|    AtoC|101340|\n",
      "|    TtoG|101268|\n",
      "+--------+------+\n",
      "\n"
     ]
    },
    {
     "data": {
      "text/html": [
       "<div>\n",
       "<style scoped>\n",
       "    .dataframe tbody tr th:only-of-type {\n",
       "        vertical-align: middle;\n",
       "    }\n",
       "\n",
       "    .dataframe tbody tr th {\n",
       "        vertical-align: top;\n",
       "    }\n",
       "\n",
       "    .dataframe thead th {\n",
       "        text-align: right;\n",
       "    }\n",
       "</style>\n",
       "<table border=\"1\" class=\"dataframe\">\n",
       "  <thead>\n",
       "    <tr style=\"text-align: right;\">\n",
       "      <th></th>\n",
       "      <th>Cores</th>\n",
       "      <th>Number of files</th>\n",
       "      <th>Total time</th>\n",
       "      <th>Read time</th>\n",
       "      <th>Execution time</th>\n",
       "    </tr>\n",
       "  </thead>\n",
       "  <tbody>\n",
       "    <tr>\n",
       "      <th>0</th>\n",
       "      <td>2</td>\n",
       "      <td>1</td>\n",
       "      <td>28.738136</td>\n",
       "      <td>8.271984</td>\n",
       "      <td>20.466113</td>\n",
       "    </tr>\n",
       "    <tr>\n",
       "      <th>1</th>\n",
       "      <td>4</td>\n",
       "      <td>2</td>\n",
       "      <td>36.166531</td>\n",
       "      <td>7.864725</td>\n",
       "      <td>28.301801</td>\n",
       "    </tr>\n",
       "  </tbody>\n",
       "</table>\n",
       "</div>"
      ],
      "text/plain": [
       "   Cores  Number of files  Total time  Read time  Execution time\n",
       "0      2                1   28.738136   8.271984       20.466113\n",
       "1      4                2   36.166531   7.864725       28.301801"
      ]
     },
     "execution_count": 24,
     "metadata": {},
     "output_type": "execute_result"
    }
   ],
   "source": [
    "#Scalability analysis (Weak Scaling)\n",
    "\n",
    "number_of_cores = [2, 4] #add 4 and 8 cores to this list after configuring the workers\n",
    "files= [\"hdfs://team-4-master:9000/1000genomes/All.chrX.LC54_GL.20101123_20110521.snp.low_coverage.genotypes_processed.vcf\",\n",
    "        \"hdfs://team-4-master:9000/1000genomes/All.chrX.LC54_GL.20101123_20110521.snp.low_coverage.genotypes_processed.vcf\"]\n",
    "#add files to this list of files after loading them into HDFS (or take the same file 4 times))\n",
    "results_weak = []\n",
    "\n",
    "for index, cores in enumerate(number_of_cores):\n",
    "    #Build Session\n",
    "    spark_session = build_session(cores)\n",
    "    spark_context = spark_session.sparkContext\n",
    "    \n",
    "    #Starting timer for reading the files\n",
    "    w_start_time = time.time()\n",
    "    number_of_files = index+1\n",
    "    df1 = read_files(spark_session, files[0 : number_of_files])\n",
    "    w_read_time = time.time() - w_start_time\n",
    "    \n",
    "    # Starting the timer for executing the analysis\n",
    "    w_start_time_execution = time.time()\n",
    "    # Filter out others and only keep the SNP alleles data\n",
    "    df2 = df1.select(\"REF\",\"ALT\")\n",
    "    \n",
    "    # Combine the two column so that now we have a column showing the mutation of the SNP e.g. mutated from a G to an A\n",
    "    df2.createOrReplaceTempView(\"df2\")\n",
    "    df3 = spark_session.sql(\"SELECT CONCAT(REF, 'to',  ALT) as Mutation FROM df2\")\n",
    "    \n",
    "    # WE now can know which mutation is the most common one in this chromosome.\n",
    "    df4 = df3.select(\"Mutation\").groupBy(\"Mutation\").count().sort(\"count\", ascending=False).show()\n",
    "    \n",
    "    w_execution_time = time.time() - w_start_time_execution\n",
    "    w_total_time = time.time() - w_start_time\n",
    "    results_weak.append((cores, number_of_files, w_total_time, w_read_time, w_execution_time))\n",
    "    spark_context.stop()\n",
    "    \n",
    "df_results_weak = pd.DataFrame(data=results_weak, columns=[\"Cores\", \"Number of files\", \"Total time\", \"Read time\", \"Execution time\"])\n",
    "df_results_weak"
   ]
  },
  {
   "cell_type": "code",
   "execution_count": 28,
   "metadata": {},
   "outputs": [
    {
     "data": {
      "image/png": "[encoded data removed]",
      "text/plain": [
       "<Figure size 1080x720 with 1 Axes>"
      ]
     },
     "metadata": {
      "needs_background": "light"
     },
     "output_type": "display_data"
    }
   ],
   "source": [
    "#Plot the result for the weak scalability test\n",
    "\n",
    "fig, ax = plt.subplots(figsize=(15, 10))\n",
    "ax = plt.gca()\n",
    "\n",
    "df_results_weak.plot(kind='line',x='Cores',y='Total time', color='red', ax=ax, marker=\"o\")\n",
    "df_results_weak.plot(kind='line',x='Cores',y='Read time', color='blue', ax=ax, marker=\"o\")\n",
    "df_results_weak.plot(kind='line',x='Cores',y='Execution time', color='green', ax=ax, marker=\"o\")\n",
    "\n",
    "plt.xticks(np.arange(2, 9, step=2))\n",
    "plt.title('Weak scalability test')\n",
    "plt.ylabel('Time (s)')\n",
    "plt.xlabel('Number of cores')\n",
    "plt.yticks(fontsize = 16)\n",
    "plt.xticks(fontsize = 16)\n",
    "plt.rc('axes', labelsize=16, titlesize=26, titlepad=20)\n",
    "plt.show()"
   ]
  },
  {
   "cell_type": "code",
   "execution_count": null,
   "metadata": {},
   "outputs": [],
   "source": []
  }
 ],
 "metadata": {
  "kernelspec": {
   "display_name": "Python 3",
   "language": "python",
   "name": "python3"
  },
  "language_info": {
   "codemirror_mode": {
    "name": "ipython",
    "version": 3
   },
   "file_extension": ".py",
   "mimetype": "text/x-python",
   "name": "python",
   "nbconvert_exporter": "python",
   "pygments_lexer": "ipython3",
   "version": "3.6.9"
  }
 },
 "nbformat": 4,
 "nbformat_minor": 4
}
